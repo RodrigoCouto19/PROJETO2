{
  "cells": [
    {
      "metadata": {},
      "cell_type": "markdown",
      "source": "### INICIANDO O PROJETO"
    },
    {
      "metadata": {},
      "cell_type": "markdown",
      "source": "https://www.kaggle.com/rio2016/olympic-games baixei os CSVs para análise de dados."
    },
    {
      "metadata": {},
      "cell_type": "raw",
      "source": ""
    },
    {
      "metadata": {},
      "cell_type": "markdown",
      "source": "#### Descrição dos CSVs:"
    },
    {
      "metadata": {},
      "cell_type": "markdown",
      "source": "Este conjunto de dados consiste nas estatísticas oficiais sobre os 11.538 atletas e 306 eventos nos Jogos Olímpicos de 2016 no Rio de Janeiro. O arquivo de atletas inclui o nome, nacionalidade (como código de país de três letras do COI), sexo, idade (como data de nascimento), altura em metros, peso em quilogramas, esporte e quantidade de medalhas de ouro, prata e / ou bronze. ganhou para todos os atletas olímpicos no Rio. O arquivo de eventos lista o nome, esporte, disciplina (se disponível), gênero dos competidores e local (is) para cada evento olímpico no Rio 2016."
    },
    {
      "metadata": {},
      "cell_type": "markdown",
      "source": "#### Introdução: "
    },
    {
      "metadata": {},
      "cell_type": "markdown",
      "source": "Encontrei um assunto interessante(Olimpiadas RIO 2016),nesse projeto irei utilizar alguns desses dados e comparar valores,etc\n"
    },
    {
      "metadata": {},
      "cell_type": "markdown",
      "source": "### Implementação do código"
    },
    {
      "metadata": {},
      "cell_type": "markdown",
      "source": "<i/> Importando a biblioteca Pandas,essa biblioteca permite uma análise de dados, e várias funções diferentes.\nO método head() permite imprimir algumas linhas do CSV utilizado,utilizando o parâmetro o número de linhas,\npor exemplo: dados.head(50),para ver até a linha 50."
    },
    {
      "metadata": {
        "trusted": true
      },
      "cell_type": "code",
      "source": "import pandas",
      "execution_count": 37,
      "outputs": []
    },
    {
      "metadata": {
        "trusted": true,
        "scrolled": true
      },
      "cell_type": "code",
      "source": "dados1 = pandas.read_csv('paises.csv')\ndados1.head()",
      "execution_count": 38,
      "outputs": [
        {
          "output_type": "execute_result",
          "execution_count": 38,
          "data": {
            "text/html": "<div>\n<style scoped>\n    .dataframe tbody tr th:only-of-type {\n        vertical-align: middle;\n    }\n\n    .dataframe tbody tr th {\n        vertical-align: top;\n    }\n\n    .dataframe thead th {\n        text-align: right;\n    }\n</style>\n<table border=\"1\" class=\"dataframe\">\n  <thead>\n    <tr style=\"text-align: right;\">\n      <th></th>\n      <th>country</th>\n      <th>code</th>\n      <th>population</th>\n      <th>gdp_per_capita</th>\n    </tr>\n  </thead>\n  <tbody>\n    <tr>\n      <th>0</th>\n      <td>Afghanistan</td>\n      <td>AFG</td>\n      <td>32526562.0</td>\n      <td>594.323081</td>\n    </tr>\n    <tr>\n      <th>1</th>\n      <td>Albania</td>\n      <td>ALB</td>\n      <td>2889167.0</td>\n      <td>3945.217582</td>\n    </tr>\n    <tr>\n      <th>2</th>\n      <td>Algeria</td>\n      <td>ALG</td>\n      <td>39666519.0</td>\n      <td>4206.031232</td>\n    </tr>\n    <tr>\n      <th>3</th>\n      <td>American Samoa*</td>\n      <td>ASA</td>\n      <td>55538.0</td>\n      <td>NaN</td>\n    </tr>\n    <tr>\n      <th>4</th>\n      <td>Andorra</td>\n      <td>AND</td>\n      <td>70473.0</td>\n      <td>NaN</td>\n    </tr>\n  </tbody>\n</table>\n</div>",
            "text/plain": "           country code  population  gdp_per_capita\n0      Afghanistan  AFG  32526562.0      594.323081\n1          Albania  ALB   2889167.0     3945.217582\n2          Algeria  ALG  39666519.0     4206.031232\n3  American Samoa*  ASA     55538.0             NaN\n4          Andorra  AND     70473.0             NaN"
          },
          "metadata": {}
        }
      ]
    },
    {
      "metadata": {
        "trusted": true
      },
      "cell_type": "code",
      "source": "dados2 = pandas.read_csv('atletas.csv')\ndados2.head()",
      "execution_count": 39,
      "outputs": [
        {
          "output_type": "execute_result",
          "execution_count": 39,
          "data": {
            "text/html": "<div>\n<style scoped>\n    .dataframe tbody tr th:only-of-type {\n        vertical-align: middle;\n    }\n\n    .dataframe tbody tr th {\n        vertical-align: top;\n    }\n\n    .dataframe thead th {\n        text-align: right;\n    }\n</style>\n<table border=\"1\" class=\"dataframe\">\n  <thead>\n    <tr style=\"text-align: right;\">\n      <th></th>\n      <th>id</th>\n      <th>name</th>\n      <th>nationality</th>\n      <th>sex</th>\n      <th>dob</th>\n      <th>height</th>\n      <th>weight</th>\n      <th>sport</th>\n      <th>gold</th>\n      <th>silver</th>\n      <th>bronze</th>\n    </tr>\n  </thead>\n  <tbody>\n    <tr>\n      <th>0</th>\n      <td>736041664</td>\n      <td>A Jesus Garcia</td>\n      <td>ESP</td>\n      <td>male</td>\n      <td>10/17/69</td>\n      <td>1.72</td>\n      <td>64.0</td>\n      <td>athletics</td>\n      <td>0</td>\n      <td>0</td>\n      <td>0</td>\n    </tr>\n    <tr>\n      <th>1</th>\n      <td>532037425</td>\n      <td>A Lam Shin</td>\n      <td>KOR</td>\n      <td>female</td>\n      <td>9/23/86</td>\n      <td>1.68</td>\n      <td>56.0</td>\n      <td>fencing</td>\n      <td>0</td>\n      <td>0</td>\n      <td>0</td>\n    </tr>\n    <tr>\n      <th>2</th>\n      <td>435962603</td>\n      <td>Aaron Brown</td>\n      <td>CAN</td>\n      <td>male</td>\n      <td>5/27/92</td>\n      <td>1.98</td>\n      <td>79.0</td>\n      <td>athletics</td>\n      <td>0</td>\n      <td>0</td>\n      <td>1</td>\n    </tr>\n    <tr>\n      <th>3</th>\n      <td>521041435</td>\n      <td>Aaron Cook</td>\n      <td>MDA</td>\n      <td>male</td>\n      <td>1/2/91</td>\n      <td>1.83</td>\n      <td>80.0</td>\n      <td>taekwondo</td>\n      <td>0</td>\n      <td>0</td>\n      <td>0</td>\n    </tr>\n    <tr>\n      <th>4</th>\n      <td>33922579</td>\n      <td>Aaron Gate</td>\n      <td>NZL</td>\n      <td>male</td>\n      <td>11/26/90</td>\n      <td>1.81</td>\n      <td>71.0</td>\n      <td>cycling</td>\n      <td>0</td>\n      <td>0</td>\n      <td>0</td>\n    </tr>\n  </tbody>\n</table>\n</div>",
            "text/plain": "          id            name nationality     sex       dob  height  weight  \\\n0  736041664  A Jesus Garcia         ESP    male  10/17/69    1.72    64.0   \n1  532037425      A Lam Shin         KOR  female   9/23/86    1.68    56.0   \n2  435962603     Aaron Brown         CAN    male   5/27/92    1.98    79.0   \n3  521041435      Aaron Cook         MDA    male    1/2/91    1.83    80.0   \n4   33922579      Aaron Gate         NZL    male  11/26/90    1.81    71.0   \n\n       sport  gold  silver  bronze  \n0  athletics     0       0       0  \n1    fencing     0       0       0  \n2  athletics     0       0       1  \n3  taekwondo     0       0       0  \n4    cycling     0       0       0  "
          },
          "metadata": {}
        }
      ]
    },
    {
      "metadata": {
        "trusted": true
      },
      "cell_type": "code",
      "source": "dados3 = pandas.read_csv('eventos.csv')\ndados3.head()",
      "execution_count": 40,
      "outputs": [
        {
          "output_type": "execute_result",
          "execution_count": 40,
          "data": {
            "text/html": "<div>\n<style scoped>\n    .dataframe tbody tr th:only-of-type {\n        vertical-align: middle;\n    }\n\n    .dataframe tbody tr th {\n        vertical-align: top;\n    }\n\n    .dataframe thead th {\n        text-align: right;\n    }\n</style>\n<table border=\"1\" class=\"dataframe\">\n  <thead>\n    <tr style=\"text-align: right;\">\n      <th></th>\n      <th>id</th>\n      <th>sport</th>\n      <th>discipline</th>\n      <th>name</th>\n      <th>sex</th>\n      <th>venues</th>\n    </tr>\n  </thead>\n  <tbody>\n    <tr>\n      <th>0</th>\n      <td>701492</td>\n      <td>aquatics</td>\n      <td>backstroke</td>\n      <td>Women's 100m Backstroke</td>\n      <td>female</td>\n      <td>Olympic Aquatics Stadium</td>\n    </tr>\n    <tr>\n      <th>1</th>\n      <td>305278</td>\n      <td>aquatics</td>\n      <td>backstroke</td>\n      <td>Women's 200m Backstroke</td>\n      <td>female</td>\n      <td>Olympic Aquatics Stadium</td>\n    </tr>\n    <tr>\n      <th>2</th>\n      <td>708010</td>\n      <td>aquatics</td>\n      <td>backstroke</td>\n      <td>Men's 100m Backstroke</td>\n      <td>male</td>\n      <td>Olympic Aquatics Stadium</td>\n    </tr>\n    <tr>\n      <th>3</th>\n      <td>729643</td>\n      <td>aquatics</td>\n      <td>backstroke</td>\n      <td>Men's 200m Backstroke</td>\n      <td>male</td>\n      <td>Olympic Aquatics Stadium</td>\n    </tr>\n    <tr>\n      <th>4</th>\n      <td>567019</td>\n      <td>aquatics</td>\n      <td>breaststroke</td>\n      <td>Women's 100m Breaststroke</td>\n      <td>female</td>\n      <td>Olympic Aquatics Stadium</td>\n    </tr>\n  </tbody>\n</table>\n</div>",
            "text/plain": "       id     sport    discipline                       name     sex  \\\n0  701492  aquatics    backstroke    Women's 100m Backstroke  female   \n1  305278  aquatics    backstroke    Women's 200m Backstroke  female   \n2  708010  aquatics    backstroke      Men's 100m Backstroke    male   \n3  729643  aquatics    backstroke      Men's 200m Backstroke    male   \n4  567019  aquatics  breaststroke  Women's 100m Breaststroke  female   \n\n                     venues  \n0  Olympic Aquatics Stadium  \n1  Olympic Aquatics Stadium  \n2  Olympic Aquatics Stadium  \n3  Olympic Aquatics Stadium  \n4  Olympic Aquatics Stadium  "
          },
          "metadata": {}
        }
      ]
    },
    {
      "metadata": {},
      "cell_type": "markdown",
      "source": "<i/> Criando listas,transformando as colunas country,population,sex,nationality e height em listas,para podemos manipular melhor os dados."
    },
    {
      "metadata": {
        "trusted": true
      },
      "cell_type": "code",
      "source": "lista_paises = list(dados1['country'])\nlista_codigos = list(dados1['population'])\nlista_sexo = list(dados3['sex'])\nlista_nacionalidade = list(dados2['nationality'])\nlista_altura = list(dados2['height'])",
      "execution_count": 41,
      "outputs": []
    },
    {
      "metadata": {},
      "cell_type": "markdown",
      "source": "<i/> O código abaixo tem como função descobrir qual país que participou das olímpiadas tem maior população,compara todos os elementos da lista,recebendo o maior elemento,utilizando a coluna(population) do dado1:"
    },
    {
      "metadata": {
        "trusted": true,
        "scrolled": false
      },
      "cell_type": "code",
      "source": "maior = lista_codigos[0]\nmenor = lista_codigos[0]\npais = 0\n\nfor x in range(len(lista_codigos)):\n    if lista_codigos[x] > maior:\n        maior = lista_codigos[x]\n        pais = x\n    if lista_codigos[x] < menor:\n        menor = lista_codigos[x]\n\nprint('MAIOR POPULAÇÃO:',lista_paises[pais],'-',maior)",
      "execution_count": 42,
      "outputs": [
        {
          "output_type": "stream",
          "text": "MAIOR POPULAÇÃO: China - 1371220000.0\n",
          "name": "stdout"
        }
      ]
    },
    {
      "metadata": {},
      "cell_type": "markdown",
      "source": "No código abaixo analisa quantos atletas masculinos e femininos participaram da competição,utilizando a coluna(sex) do dado3:"
    },
    {
      "metadata": {
        "trusted": true
      },
      "cell_type": "code",
      "source": "feminino = 0\nmasculino = 0\ninvalido = 0\nfor x in range(len(lista_sexo)):\n    if lista_sexo[x] == 'female':\n        feminino = feminino + 1\n    elif lista_sexo[x] == 'male':\n        masculino = masculino + 1\n    else:\n        invalido += 1\nprint('SEXO F: %s'%(feminino),'SEXO M: %s'%(masculino))",
      "execution_count": 43,
      "outputs": [
        {
          "output_type": "stream",
          "text": "SEXO F: 136 SEXO M: 161\n",
          "name": "stdout"
        }
      ]
    },
    {
      "metadata": {},
      "cell_type": "markdown",
      "source": "<i/> No código abaixo foram criadas duas listas para armazenar os elementos, o código compara a população dos paises,se for maior que 100 milhões o elemento é armazenado para utilizamos no gráfico,logo abaixo:"
    },
    {
      "metadata": {
        "trusted": true
      },
      "cell_type": "code",
      "source": "lista_maiores = []\nlista_paisesM = []\nfor x in range(len(lista_codigos)):\n    if lista_codigos[x] >= 100000000:\n        lista_maiores.append(lista_codigos[x])\n        lista_paisesM.append(lista_paises[x])\n",
      "execution_count": 44,
      "outputs": []
    },
    {
      "metadata": {},
      "cell_type": "markdown",
      "source": " <i/> Importando matplotlib,para montar o gráfico,utilizaremos o elementos armazenados a cima como paramêtro: "
    },
    {
      "metadata": {
        "trusted": true
      },
      "cell_type": "code",
      "source": "import matplotlib.pyplot as plt\nimport numpy as np\nfrom matplotlib.pyplot import figure\nindex = np.arange(len(lista_paisesM))",
      "execution_count": 45,
      "outputs": []
    },
    {
      "metadata": {},
      "cell_type": "markdown",
      "source": "<i/> Criando uma função para plotar o gráfico de barras:"
    },
    {
      "metadata": {
        "trusted": true,
        "scrolled": false
      },
      "cell_type": "code",
      "source": "def plot_bar_x():\n    # Código para apresentar o gráfico\n    figure(num=1, figsize=(12, 4.2), dpi=82, facecolor='w', edgecolor='k')\n    plt.bar(index, lista_maiores, color = 'C2')\n    plt.xlabel('PAISES COM POPULAÇÃO MAIOR QUE 100 milhões ', fontsize=10, fontweight='bold')\n    plt.ylabel('POPULAÇÃO MAXIMA(bilhões)', fontsize=10, fontweight='bold')\n    plt.xticks(index, lista_paisesM, fontsize=10, rotation=0)\n    plt.title('RIO 2016 OLIMPIADAS POPULAÇÃO MAXIMA DOS PAISES', fontweight='bold')\n    plt.show()\nreturn plot_bar_x()",
      "execution_count": 46,
      "outputs": [
        {
          "output_type": "display_data",
          "data": {
            "image/png": "[encoded data removed]",
            "text/plain": "<Figure size 984x344.4 with 1 Axes>"
          },
          "metadata": {}
        }
      ]
    },
    {
      "metadata": {},
      "cell_type": "markdown",
      "source": "<i/> Agora vamos comparar os elementos da lista_nacionalidade(coluna \"nationality\"),se o atleta for do Brasil ou dos Estados Unidos,as variaveis recebe mais um,assim saberemos quantos atletas de cada pais mencionado participaram da competição:"
    },
    {
      "metadata": {
        "trusted": true
      },
      "cell_type": "code",
      "source": "atleta_eua = 0\natleta_brasil = 0\nfor x in range(len(lista_nacionalidade)):\n    if lista_nacionalidade[x] == \"USA\":\n        atleta_eua = atleta_eua + 1\n    elif lista_nacionalidade[x] == \"BRA\":\n        atleta_brasil = atleta_brasil + 1\nprint('ATLETAS EUA: %s'%(atleta_eua),'--','ATLETAS BRASIL: %s'%(atleta_brasil))",
      "execution_count": 47,
      "outputs": [
        {
          "output_type": "stream",
          "text": "ATLETAS EUA: 567 -- ATLETAS BRASIL: 485\n",
          "name": "stdout"
        }
      ]
    },
    {
      "metadata": {},
      "cell_type": "markdown",
      "source": "<i/>Criei 3 listas para análisar quais atletas brasileiros ganharam medalha de ouro nas olimpiadas:"
    },
    {
      "metadata": {
        "trusted": true
      },
      "cell_type": "code",
      "source": "lista_ouro = list(dados2['gold'])\nlista_atletas = list(dados2['name'])\nlista_atletasO = []",
      "execution_count": 48,
      "outputs": []
    },
    {
      "metadata": {},
      "cell_type": "markdown",
      "source": "<i/> Assim iremos usar a lista_nacionalidade que criamos no começo do projeto,a lista_atletaO só vai pegar atletas do Brasil."
    },
    {
      "metadata": {
        "trusted": true
      },
      "cell_type": "code",
      "source": "for x in range(len(lista_ouro)):\n    if lista_ouro[x] == 1:\n        if lista_nacionalidade[x] == 'BRA':\n            lista_atletasO.append(lista_atletas[x])\nprint('ATLETAS BRASILEIROS QUE GANHARAM MEDALHA DE OURO: %s'%(lista_atletasO))",
      "execution_count": 51,
      "outputs": [
        {
          "output_type": "stream",
          "text": "ATLETAS BRASILEIROS QUE GANHARAM MEDALHA DE OURO: ['Alison Cerutti', 'Bruno Mossa Rezende', 'Bruno Oscar Schmidt', 'Douglas Correia de Souza', 'Douglas Santos', 'Eder Carbonera', 'Evandro M. Guerra', 'Felipe Anderson', 'Gabriel Barbosa', 'Gabriel Jesus', 'Kahena Kunze', 'Luan', 'Luan Garcia', 'Lucas Saatkamp', 'Luiz Felipe Marques Fonteles', 'Marquinhos', 'Martine Grael', 'Mauricio Borges Almeida Silva', 'Mauricio Luiz de Souza', 'Neymar', 'Rafael Alcantara', 'Rafaela Silva', 'Renato Augusto', 'Ricardo Lucarelli', 'Robson Conceicao', 'Rodrigo Caio', 'Rodrigo Dourado', 'Sergio Dutra Santos', 'Thiago Braz da Silva', 'Thiago Maia', 'Uilson', 'Walace', 'Wallace de Souza', 'Weverton', 'William', 'William Arjona', 'Zeca', 'Alison Cerutti', 'Bruno Mossa Rezende', 'Bruno Oscar Schmidt', 'Douglas Correia de Souza', 'Douglas Santos', 'Eder Carbonera', 'Evandro M. Guerra', 'Felipe Anderson', 'Gabriel Barbosa', 'Gabriel Jesus', 'Kahena Kunze', 'Luan', 'Luan Garcia', 'Lucas Saatkamp', 'Luiz Felipe Marques Fonteles', 'Marquinhos', 'Martine Grael', 'Mauricio Borges Almeida Silva', 'Mauricio Luiz de Souza', 'Neymar', 'Rafael Alcantara', 'Rafaela Silva', 'Renato Augusto', 'Ricardo Lucarelli', 'Robson Conceicao', 'Rodrigo Caio', 'Rodrigo Dourado', 'Sergio Dutra Santos', 'Thiago Braz da Silva', 'Thiago Maia', 'Uilson', 'Walace', 'Wallace de Souza', 'Weverton', 'William', 'William Arjona', 'Zeca', 'Alison Cerutti', 'Bruno Mossa Rezende', 'Bruno Oscar Schmidt', 'Douglas Correia de Souza', 'Douglas Santos', 'Eder Carbonera', 'Evandro M. Guerra', 'Felipe Anderson', 'Gabriel Barbosa', 'Gabriel Jesus', 'Kahena Kunze', 'Luan', 'Luan Garcia', 'Lucas Saatkamp', 'Luiz Felipe Marques Fonteles', 'Marquinhos', 'Martine Grael', 'Mauricio Borges Almeida Silva', 'Mauricio Luiz de Souza', 'Neymar', 'Rafael Alcantara', 'Rafaela Silva', 'Renato Augusto', 'Ricardo Lucarelli', 'Robson Conceicao', 'Rodrigo Caio', 'Rodrigo Dourado', 'Sergio Dutra Santos', 'Thiago Braz da Silva', 'Thiago Maia', 'Uilson', 'Walace', 'Wallace de Souza', 'Weverton', 'William', 'William Arjona', 'Zeca']\n",
          "name": "stdout"
        }
      ]
    }
  ],
  "metadata": {
    "kernelspec": {
      "name": "python36",
      "display_name": "Python 3.6",
      "language": "python"
    },
    "language_info": {
      "mimetype": "text/x-python",
      "nbconvert_exporter": "python",
      "name": "python",
      "pygments_lexer": "ipython3",
      "version": "3.6.6",
      "file_extension": ".py",
      "codemirror_mode": {
        "version": 3,
        "name": "ipython"
      }
    }
  },
  "nbformat": 4,
  "nbformat_minor": 2
}